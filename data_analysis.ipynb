{
 "cells": [
  {
   "cell_type": "markdown",
   "metadata": {},
   "source": [
    "# Data analysis in Python using built-in types\n",
    "\n",
    "-----\n",
    "\n",
    "## Learning Objectives\n",
    "\n",
    "* Using the command line to:\n",
    "    + make directories\n",
    "    + download files from internet\n",
    "    + unzip `.zip` files\n",
    "* Import a `.csv` file without [`pandas`](https://pandas.pydata.org/about.html) or [`numpy`](https://www.numpy.org/)\n",
    "* Perform data analysis using built-in types\n",
    "    + working with dates\n",
    "    + sorting dictionaries\n",
    "    + for loops and list comprehension\n",
    "    + visualizing data with [`matplotlib`](https://matplotlib.org/index.html)"
   ]
  },
  {
   "cell_type": "markdown",
   "metadata": {},
   "source": [
    "## Inspect Files in current working directory"
   ]
  },
  {
   "cell_type": "code",
   "execution_count": 4,
   "metadata": {},
   "outputs": [
    {
     "name": "stdout",
     "output_type": "stream",
     "text": [
      "LICENSE             README.md           data_analysis.ipynb \u001b[34mraw_data\u001b[m\u001b[m\r\n"
     ]
    }
   ],
   "source": [
    "!ls"
   ]
  },
  {
   "cell_type": "markdown",
   "metadata": {},
   "source": [
    "## Create a new `raw_data` directory"
   ]
  },
  {
   "cell_type": "code",
   "execution_count": 2,
   "metadata": {},
   "outputs": [],
   "source": [
    "!mkdir raw_data"
   ]
  },
  {
   "cell_type": "markdown",
   "metadata": {},
   "source": [
    "Let's reinspect our working directory. By typing `ls -l`, we are getting more information about all files and folders such as when things were created."
   ]
  },
  {
   "cell_type": "code",
   "execution_count": 3,
   "metadata": {},
   "outputs": [
    {
     "name": "stdout",
     "output_type": "stream",
     "text": [
      "total 112\r\n",
      "-rw-r--r--  1 jarodc33  staff  35149 Jan 29 13:47 LICENSE\r\n",
      "-rw-r--r--  1 jarodc33  staff    515 Jan 29 13:47 README.md\r\n",
      "-rw-r--r--  1 jarodc33  staff  14253 Jan 29 13:47 data_analysis.ipynb\r\n",
      "drwxr-xr-x  2 jarodc33  staff     64 Jan 29 13:50 \u001b[34mraw_data\u001b[m\u001b[m\r\n"
     ]
    }
   ],
   "source": [
    "!ls -l"
   ]
  },
  {
   "cell_type": "markdown",
   "metadata": {},
   "source": [
    "## Install Homebrew\n",
    "\n",
    "[`homebrew`](https://brew.sh/) is the package manager for MacOS. This tutorial assumes that you have it installed on your machine.\n",
    "\n",
    "*If not, please uncomment and run the cell below to install `homebrew`.*"
   ]
  },
  {
   "cell_type": "code",
   "execution_count": null,
   "metadata": {},
   "outputs": [],
   "source": [
    "#/usr/bin/ruby -e \"$(curl -fsSL https://raw.githubusercontent.com/Homebrew/install/master/install)\""
   ]
  },
  {
   "cell_type": "markdown",
   "metadata": {},
   "source": [
    "## Download necessary data\n",
    "\n",
    "Let's download [King County, WA property sales data](https://info.kingcounty.gov/assessor/DataDownload/default.aspx) into our newly created `raw_data` directory. We'll be using the [`wget`](https://www.gnu.org/software/wget/) package to download local copies of files from the Internet. \n",
    "\n",
    "The default directory is the current working directory so we need to specify where `wget` should place the file via the `-P` flag.\n",
    "\n",
    "```\n",
    "# <> are placeholders so do not include them in your commands\n",
    "wget <url> -P <file path>\n",
    "```\n",
    "\n",
    "*If you don't have `wget`, uncomment the cell below to have `brew` install it for you.*"
   ]
  },
  {
   "cell_type": "code",
   "execution_count": 5,
   "metadata": {},
   "outputs": [
    {
     "name": "stdout",
     "output_type": "stream",
     "text": [
      "Updating Homebrew...\n",
      "\u001b[34m==>\u001b[0m \u001b[1mAuto-updated Homebrew!\u001b[0m\n",
      "Updated 1 tap (homebrew/core).\n",
      "\u001b[34m==>\u001b[0m \u001b[1mNew Formulae\u001b[0m\n",
      "asymptote\n",
      "\u001b[34m==>\u001b[0m \u001b[1mUpdated Formulae\u001b[0m\n",
      "awscli          godep           libgr           nethack         rke\n",
      "balena-cli      goto            libphonenumber  ninja           sbcl\n",
      "benthos         hugo            libqalculate    openal-soft     sonobuoy\n",
      "calceph         imagemagick     libsecret       operator-sdk    streamlink\n",
      "cgal            imagemagick@6   macosvpn        pulumi          topgrade\n",
      "direnv          jenkins         mawk            py3cairo        vips\n",
      "erlang          jfrog-cli-go    memcached       qalculate-gtk   weaver\n",
      "go              just            mmark           qt              wtf\n",
      "\n",
      "\u001b[32m==>\u001b[0m \u001b[1mInstalling dependencies for wget: \u001b[32mlibunistring\u001b[39m, \u001b[32mlibidn2\u001b[39m and \u001b[32mopenssl@1.1\u001b[39m\u001b[0m\n",
      "\u001b[32m==>\u001b[0m \u001b[1mInstalling wget dependency: \u001b[32mlibunistring\u001b[39m\u001b[0m\n",
      "\u001b[34m==>\u001b[0m \u001b[1mDownloading https://homebrew.bintray.com/bottles/libunistring-0.9.10.catalin\u001b[0m\n",
      "\u001b[34m==>\u001b[0m \u001b[1mDownloading from https://akamai.bintray.com/ce/ce746662b98d93511b86920011b5c\u001b[0m\n",
      "######################################################################## 100.0%\n",
      "\u001b[34m==>\u001b[0m \u001b[1mPouring libunistring-0.9.10.catalina.bottle.tar.gz\u001b[0m\n",
      "🍺  /usr/local/Cellar/libunistring/0.9.10: 54 files, 4.4MB\n",
      "\u001b[32m==>\u001b[0m \u001b[1mInstalling wget dependency: \u001b[32mlibidn2\u001b[39m\u001b[0m\n",
      "\u001b[34m==>\u001b[0m \u001b[1mDownloading https://homebrew.bintray.com/bottles/libidn2-2.3.0.catalina.bott\u001b[0m\n",
      "\u001b[34m==>\u001b[0m \u001b[1mDownloading from https://akamai.bintray.com/09/0908585cca518a83f101b2edc0417\u001b[0m\n",
      "######################################################################## 100.0%\n",
      "\u001b[34m==>\u001b[0m \u001b[1mPouring libidn2-2.3.0.catalina.bottle.tar.gz\u001b[0m\n",
      "🍺  /usr/local/Cellar/libidn2/2.3.0: 70 files, 727.8KB\n",
      "\u001b[32m==>\u001b[0m \u001b[1mInstalling wget dependency: \u001b[32mopenssl@1.1\u001b[39m\u001b[0m\n",
      "\u001b[34m==>\u001b[0m \u001b[1mDownloading https://homebrew.bintray.com/bottles/openssl@1.1-1.1.1d.catalina\u001b[0m\n",
      "\u001b[34m==>\u001b[0m \u001b[1mDownloading from https://akamai.bintray.com/d7/d7f992ebfd78f80828051f6dc6a1a\u001b[0m\n",
      "######################################################################## 100.0%\n",
      "\u001b[34m==>\u001b[0m \u001b[1mPouring openssl@1.1-1.1.1d.catalina.bottle.tar.gz\u001b[0m\n",
      "\u001b[34m==>\u001b[0m \u001b[1mCaveats\u001b[0m\n",
      "A CA file has been bootstrapped using certificates from the system\n",
      "keychain. To add additional certificates, place .pem files in\n",
      "  /usr/local/etc/openssl@1.1/certs\n",
      "\n",
      "and run\n",
      "  /usr/local/opt/openssl@1.1/bin/c_rehash\n",
      "\n",
      "openssl@1.1 is keg-only, which means it was not symlinked into /usr/local,\n",
      "because openssl/libressl is provided by macOS so don't link an incompatible version.\n",
      "\n",
      "If you need to have openssl@1.1 first in your PATH run:\n",
      "  echo 'export PATH=\"/usr/local/opt/openssl@1.1/bin:$PATH\"' >> ~/.bash_profile\n",
      "\n",
      "For compilers to find openssl@1.1 you may need to set:\n",
      "  export LDFLAGS=\"-L/usr/local/opt/openssl@1.1/lib\"\n",
      "  export CPPFLAGS=\"-I/usr/local/opt/openssl@1.1/include\"\n",
      "\n",
      "\u001b[34m==>\u001b[0m \u001b[1mSummary\u001b[0m\n",
      "🍺  /usr/local/Cellar/openssl@1.1/1.1.1d: 7,983 files, 17.9MB\n",
      "\u001b[32m==>\u001b[0m \u001b[1mInstalling \u001b[32mwget\u001b[39m\u001b[0m\n",
      "\u001b[34m==>\u001b[0m \u001b[1mDownloading https://homebrew.bintray.com/bottles/wget-1.20.3_2.catalina.bott\u001b[0m\n",
      "\u001b[34m==>\u001b[0m \u001b[1mDownloading from https://akamai.bintray.com/ef/ef65c759c5097a36323fa9c777564\u001b[0m\n",
      "######################################################################## 100.0%\n",
      "\u001b[34m==>\u001b[0m \u001b[1mPouring wget-1.20.3_2.catalina.bottle.tar.gz\u001b[0m\n",
      "🍺  /usr/local/Cellar/wget/1.20.3_2: 50 files, 4.0MB\n",
      "\u001b[32m==>\u001b[0m \u001b[1mCaveats\u001b[0m\n",
      "\u001b[34m==>\u001b[0m \u001b[1mopenssl@1.1\u001b[0m\n",
      "A CA file has been bootstrapped using certificates from the system\n",
      "keychain. To add additional certificates, place .pem files in\n",
      "  /usr/local/etc/openssl@1.1/certs\n",
      "\n",
      "and run\n",
      "  /usr/local/opt/openssl@1.1/bin/c_rehash\n",
      "\n",
      "openssl@1.1 is keg-only, which means it was not symlinked into /usr/local,\n",
      "because openssl/libressl is provided by macOS so don't link an incompatible version.\n",
      "\n",
      "If you need to have openssl@1.1 first in your PATH run:\n",
      "  echo 'export PATH=\"/usr/local/opt/openssl@1.1/bin:$PATH\"' >> ~/.bash_profile\n",
      "\n",
      "For compilers to find openssl@1.1 you may need to set:\n",
      "  export LDFLAGS=\"-L/usr/local/opt/openssl@1.1/lib\"\n",
      "  export CPPFLAGS=\"-I/usr/local/opt/openssl@1.1/include\"\n",
      "\n"
     ]
    }
   ],
   "source": [
    "!brew install wget"
   ]
  },
  {
   "cell_type": "code",
   "execution_count": 6,
   "metadata": {},
   "outputs": [
    {
     "name": "stdout",
     "output_type": "stream",
     "text": [
      "--2020-01-29 13:55:42--  https://aqua.kingcounty.gov/extranet/assessor/Real%20Property%20Sales.zip\n",
      "Resolving aqua.kingcounty.gov (aqua.kingcounty.gov)... 146.129.240.28\n",
      "Connecting to aqua.kingcounty.gov (aqua.kingcounty.gov)|146.129.240.28|:443... connected.\n",
      "HTTP request sent, awaiting response... 200 OK\n",
      "Length: 126877142 (121M) [application/x-zip-compressed]\n",
      "Saving to: ‘raw_data/Real Property Sales.zip’\n",
      "\n",
      "Real Property Sales 100%[===================>] 121.00M  6.49MB/s    in 17s     \n",
      "\n",
      "2020-01-29 13:55:59 (6.94 MB/s) - ‘raw_data/Real Property Sales.zip’ saved [126877142/126877142]\n",
      "\n"
     ]
    }
   ],
   "source": [
    "!wget https://aqua.kingcounty.gov/extranet/assessor/Real%20Property%20Sales.zip -P raw_data/"
   ]
  },
  {
   "cell_type": "markdown",
   "metadata": {},
   "source": [
    "Let's inspect the contents of `raw_data` to verify that we have the data"
   ]
  },
  {
   "cell_type": "code",
   "execution_count": 7,
   "metadata": {},
   "outputs": [
    {
     "name": "stdout",
     "output_type": "stream",
     "text": [
      "total 263456\r\n",
      "-rw-r--r--  1 jarodc33  staff  126877142 Jan 24 21:52 Real Property Sales.zip\r\n"
     ]
    }
   ],
   "source": [
    "!ls -l raw_data/"
   ]
  },
  {
   "cell_type": "markdown",
   "metadata": {},
   "source": [
    "### Unzip `raw_data/Real Property Sales.zip`\n",
    "\n",
    "Currently the data lives in a [`.zip`](http://cvs.bio.unc.edu/protocol/unzip-help/unzip-help.htm) file, which is essentially a layer that contains the actual data.\n",
    "\n",
    "To extract - or unpeel - the contents within the `.zip` file, we'll use the [`unzip`](https://formulae.brew.sh/formula/unzip) command. \n",
    "\n",
    "By specifying `-d raw_data/`, we're telling `unzip` to place the contents of `raw_data/Real Property Sales.zip` inside the `raw_data/` directory.\n",
    "\n",
    "*If you don't have `unzip`, uncomment the cell below to have `brew` install it for you.*"
   ]
  },
  {
   "cell_type": "code",
   "execution_count": 8,
   "metadata": {},
   "outputs": [
    {
     "name": "stdout",
     "output_type": "stream",
     "text": [
      "\u001b[34m==>\u001b[0m \u001b[1mDownloading https://homebrew.bintray.com/bottles/unzip-6.0_6.catalina.bottle\u001b[0m\n",
      "######################################################################## 100.0%\n",
      "\u001b[34m==>\u001b[0m \u001b[1mPouring unzip-6.0_6.catalina.bottle.tar.gz\u001b[0m\n",
      "\u001b[34m==>\u001b[0m \u001b[1mCaveats\u001b[0m\n",
      "unzip is keg-only, which means it was not symlinked into /usr/local,\n",
      "because macOS already provides this software and installing another version in\n",
      "parallel can cause all kinds of trouble.\n",
      "\n",
      "If you need to have unzip first in your PATH run:\n",
      "  echo 'export PATH=\"/usr/local/opt/unzip/bin:$PATH\"' >> ~/.bash_profile\n",
      "\n",
      "\u001b[34m==>\u001b[0m \u001b[1mSummary\u001b[0m\n",
      "🍺  /usr/local/Cellar/unzip/6.0_6: 15 files, 514.5KB\n"
     ]
    }
   ],
   "source": [
    "!brew install unzip"
   ]
  },
  {
   "cell_type": "code",
   "execution_count": 9,
   "metadata": {},
   "outputs": [
    {
     "name": "stdout",
     "output_type": "stream",
     "text": [
      "Archive:  raw_data/Real Property Sales.zip\n",
      "  inflating: raw_data/EXTR_RPSale.csv  \n"
     ]
    }
   ],
   "source": [
    "!unzip raw_data/Real\\ Property\\ Sales.zip -d raw_data/"
   ]
  },
  {
   "cell_type": "markdown",
   "metadata": {},
   "source": [
    "After unzipping `raw_data/Real Property Sales.zip`, we now have access to the `raw_data/EXTR_RPSale.csv`."
   ]
  },
  {
   "cell_type": "code",
   "execution_count": 10,
   "metadata": {},
   "outputs": [
    {
     "name": "stdout",
     "output_type": "stream",
     "text": [
      "total 1345184\r\n",
      "-rw-r--r--  1 jarodc33  staff  547914620 Jan 24 17:40 EXTR_RPSale.csv\r\n",
      "-rw-r--r--  1 jarodc33  staff  126877142 Jan 24 21:52 Real Property Sales.zip\r\n"
     ]
    }
   ],
   "source": [
    "!ls -l raw_data/"
   ]
  },
  {
   "cell_type": "markdown",
   "metadata": {},
   "source": [
    "## Load necessary data\n",
    "\n",
    "> The `csv` module implements classes to read and write tabular data in CSV format. It allows programmers to say, “write this data in the format preferred by Excel,” or “read data from this file which was generated by Excel,” without knowing the precise details of the CSV format used by Excel. - [`csv` documentation](https://docs.python.org/3/library/csv.html)\n",
    "\n",
    "### Using the `csv` library\n",
    "\n",
    "The `csv` library contains objects and other code to read, write, and process data from and to CSV files. Essentially, we want to read each row in the `.csv` file and stores its information for later use. \n",
    "\n",
    "\n",
    "### How `csv` works\n",
    "\n",
    "The [`csv.DictReader()`](https://docs.python.org/3/library/csv.html#csv.DictReader) function creates an object that operates like a regular reader - where information is returned as [strings](https://docs.python.org/3.7/library/stdtypes.html#text-sequence-type-str) - but maps the information in each row to an [OrderedDict](https://docs.python.org/3/library/collections.html#collections.OrderedDict) whose keys are given by the optional `fieldnames` parameter. If `fieldnames` is omitted, the values in the first row of file f will be used as the fieldnames.\n",
    "\n",
    "Since each row is an `OrderedDict` object, we know that information in each dictionary will be in the same order as they appear within the `.csv` file.\n",
    "\n",
    "### Inspect the first two rows in the `raw_data/EXTR_RPSale.csv` file"
   ]
  },
  {
   "cell_type": "code",
   "execution_count": 11,
   "metadata": {},
   "outputs": [
    {
     "name": "stdout",
     "output_type": "stream",
     "text": [
      "\"ExciseTaxNbr\",\"Major\",\"Minor\",\"DocumentDate\",\"SalePrice\",\"RecordingNbr\",\"Volume\",\"Page\",\"PlatNbr\",\"PlatType\",\"PlatLot\",\"PlatBlock\",\"SellerName\",\"BuyerName\",\"PropertyType\",\"PrincipalUse\",\"SaleInstrument\",\"AFForestLand\",\"AFCurrentUseLand\",\"AFNonProfitUse\",\"AFHistoricProperty\",\"SaleReason\",\"PropertyClass\",\"SaleWarning\"\r",
      "\r\n",
      "\"1600768\",\"330405\",\"0100\",\"03/19/1998\",\"215000\",\"199803251689  \",\"145\",\"039\",\"330405\",\"C\",\"8722          \",\"3      \",\"ROSEHILL L L C                                    \",\"MEYERS R STEPHEN+MEYERS PEGGY S                   \",\"2\",\"2\",\"3\",\"N\",\"N\",\"N\",\"N\",\"1\",\"3\",\" \"\r",
      "\r\n"
     ]
    }
   ],
   "source": [
    "!head -n 2 raw_data/EXTR_RPSale.csv"
   ]
  },
  {
   "cell_type": "markdown",
   "metadata": {},
   "source": [
    "Now that we know that the first row is the column headers, we can safely omit the `fieldnames` parameter knowing that `csv.DictReader()` will use the first row as the keys within each row."
   ]
  },
  {
   "cell_type": "code",
   "execution_count": 12,
   "metadata": {},
   "outputs": [],
   "source": [
    "import csv\n",
    "\n",
    "sales = []\n",
    "with open(\"raw_data/EXTR_RPSale.csv\") as csvfile:\n",
    "    reader = csv.DictReader(csvfile)\n",
    "    for row in reader:\n",
    "        sales.append(row)"
   ]
  },
  {
   "cell_type": "markdown",
   "metadata": {},
   "source": [
    "The contents of `sales[0]` is exactly the same as it was when we viewed the first two records of the `raw_data/EXTR_RPSale.csv` file from the command line."
   ]
  },
  {
   "cell_type": "code",
   "execution_count": 15,
   "metadata": {},
   "outputs": [
    {
     "data": {
      "text/plain": [
       "OrderedDict([('ExciseTaxNbr', '1600768'),\n",
       "             ('Major', '330405'),\n",
       "             ('Minor', '0100'),\n",
       "             ('DocumentDate', '03/19/1998'),\n",
       "             ('SalePrice', '215000'),\n",
       "             ('RecordingNbr', '199803251689  '),\n",
       "             ('Volume', '145'),\n",
       "             ('Page', '039'),\n",
       "             ('PlatNbr', '330405'),\n",
       "             ('PlatType', 'C'),\n",
       "             ('PlatLot', '8722          '),\n",
       "             ('PlatBlock', '3      '),\n",
       "             ('SellerName',\n",
       "              'ROSEHILL L L C                                    '),\n",
       "             ('BuyerName',\n",
       "              'MEYERS R STEPHEN+MEYERS PEGGY S                   '),\n",
       "             ('PropertyType', '2'),\n",
       "             ('PrincipalUse', '2'),\n",
       "             ('SaleInstrument', '3'),\n",
       "             ('AFForestLand', 'N'),\n",
       "             ('AFCurrentUseLand', 'N'),\n",
       "             ('AFNonProfitUse', 'N'),\n",
       "             ('AFHistoricProperty', 'N'),\n",
       "             ('SaleReason', '1'),\n",
       "             ('PropertyClass', '3'),\n",
       "             ('SaleWarning', ' ')])"
      ]
     },
     "execution_count": 15,
     "metadata": {},
     "output_type": "execute_result"
    }
   ],
   "source": [
    "sales[0]"
   ]
  },
  {
   "cell_type": "markdown",
   "metadata": {},
   "source": [
    "## Data Analysis\n",
    "\n",
    "Now that you have all the property sales data from King County, WA within the list `sales`, you can finally start to perform some data analysis."
   ]
  },
  {
   "cell_type": "markdown",
   "metadata": {},
   "source": [
    "### 1. For each year, how many houses were sold?"
   ]
  },
  {
   "cell_type": "markdown",
   "metadata": {},
   "source": [
    "Anytime you encounter questions regarding time, you need to know if your data is in [`datetime`](https://docs.python.org/3.7/library/datetime.html) format. `datetime` objects make it easy to date and time calculation."
   ]
  },
  {
   "cell_type": "code",
   "execution_count": 16,
   "metadata": {},
   "outputs": [],
   "source": [
    "from datetime import datetime"
   ]
  },
  {
   "cell_type": "code",
   "execution_count": 17,
   "metadata": {},
   "outputs": [],
   "source": [
    "for sale in sales:\n",
    "    # transform DocumentDate from string to datetime\n",
    "    sale[\"clean_date\"] = datetime.strptime(sale[\"DocumentDate\"], \n",
    "                                           \"%m/%d/%Y\")\n",
    "    # store the sale year and month\n",
    "    sale[\"sale_year\"] = sale[\"clean_date\"].year\n",
    "    sale[\"sale_month\"] = sale[\"clean_date\"].month"
   ]
  },
  {
   "cell_type": "markdown",
   "metadata": {},
   "source": [
    "Let's inspect our work"
   ]
  },
  {
   "cell_type": "code",
   "execution_count": 18,
   "metadata": {},
   "outputs": [
    {
     "data": {
      "text/plain": [
       "OrderedDict([('ExciseTaxNbr', '1600768'),\n",
       "             ('Major', '330405'),\n",
       "             ('Minor', '0100'),\n",
       "             ('DocumentDate', '03/19/1998'),\n",
       "             ('SalePrice', '215000'),\n",
       "             ('RecordingNbr', '199803251689  '),\n",
       "             ('Volume', '145'),\n",
       "             ('Page', '039'),\n",
       "             ('PlatNbr', '330405'),\n",
       "             ('PlatType', 'C'),\n",
       "             ('PlatLot', '8722          '),\n",
       "             ('PlatBlock', '3      '),\n",
       "             ('SellerName',\n",
       "              'ROSEHILL L L C                                    '),\n",
       "             ('BuyerName',\n",
       "              'MEYERS R STEPHEN+MEYERS PEGGY S                   '),\n",
       "             ('PropertyType', '2'),\n",
       "             ('PrincipalUse', '2'),\n",
       "             ('SaleInstrument', '3'),\n",
       "             ('AFForestLand', 'N'),\n",
       "             ('AFCurrentUseLand', 'N'),\n",
       "             ('AFNonProfitUse', 'N'),\n",
       "             ('AFHistoricProperty', 'N'),\n",
       "             ('SaleReason', '1'),\n",
       "             ('PropertyClass', '3'),\n",
       "             ('SaleWarning', ' '),\n",
       "             ('clean_date', datetime.datetime(1998, 3, 19, 0, 0)),\n",
       "             ('sale_year', 1998),\n",
       "             ('sale_month', 3)])"
      ]
     },
     "execution_count": 18,
     "metadata": {},
     "output_type": "execute_result"
    }
   ],
   "source": [
    "sales[0]"
   ]
  },
  {
   "cell_type": "markdown",
   "metadata": {},
   "source": [
    "For all dictionaries in `sales`, we want to count how many property sales occured in each year. Since the value in `sale_year` is an integer, we can use Python's built-in [`sorted`](https://docs.python.org/3/library/functions.html#sorted) function to transform the `Counter` object into a `list` of `tuples` - `(year, count)` which are sorted in ascending order by year."
   ]
  },
  {
   "cell_type": "code",
   "execution_count": 77,
   "metadata": {},
   "outputs": [
    {
     "data": {
      "text/plain": [
       "[(1900, 1)]"
      ]
     },
     "execution_count": 77,
     "metadata": {},
     "output_type": "execute_result"
    }
   ],
   "source": [
    "from collections import Counter\n",
    "\n",
    "sale_year_count = Counter([sale['sale_year'] for sale in sales])\n",
    "sale_year_count = sorted(sale_year_count.items())\n",
    "sale_year_count"
   ]
  },
  {
   "cell_type": "markdown",
   "metadata": {},
   "source": [
    "This `list` of `tuples` is not something our employers can use to make a decision. Before we visualize the results, let's create a new `visuals` folder that will store all of our visuals."
   ]
  },
  {
   "cell_type": "code",
   "execution_count": 20,
   "metadata": {},
   "outputs": [],
   "source": [
    "!mkdir visuals"
   ]
  },
  {
   "cell_type": "code",
   "execution_count": 21,
   "metadata": {},
   "outputs": [],
   "source": [
    "from matplotlib import pyplot as plt"
   ]
  },
  {
   "cell_type": "code",
   "execution_count": 22,
   "metadata": {},
   "outputs": [
    {
     "data": {
      "image/png": "[encoded data removed]",
      "text/plain": [
       "<Figure size 720x360 with 1 Axes>"
      ]
     },
     "metadata": {
      "needs_background": "light"
     },
     "output_type": "display_data"
    }
   ],
   "source": [
    "# create a figure and one plot\n",
    "fig, ax = plt.subplots(nrows=1, ncols=1, figsize=(10, 5))\n",
    "\n",
    "# place data in a bar chart \n",
    "# where the x-axis is each year and \n",
    "# the y-axis is the number of sales per year\n",
    "ax.bar(x=[sale[0] for sale in sale_year_count],\n",
    "       height=[sale[1] for sale in sale_year_count])\n",
    "\n",
    "# set axis labels\n",
    "ax.set_xlabel(\"Year\")\n",
    "ax.set_ylabel(\"Number of property sales\")\n",
    "\n",
    "# give the bar chart a title\n",
    "ax.set_title(\"Property sales in King County, WA (1900 to 2021)\")\n",
    "\n",
    "# save a copy of the figure as a PNG\n",
    "fig.savefig(\"visuals/raw_sales_count_by_year.png\",\n",
    "            dpi=150)\n",
    "\n",
    "# display bar chart clearly\n",
    "fig.tight_layout()"
   ]
  },
  {
   "cell_type": "markdown",
   "metadata": {},
   "source": [
    "By the looks of our number of property sales over time bar plot, it looks like property sales in King County, WA started taking off in the 1980s. They continued climbing into the early 2000s. Despite the recession reducing the number of home sales in the late 2000s, it looks like they are continuing to climb."
   ]
  },
  {
   "cell_type": "markdown",
   "metadata": {},
   "source": [
    "### 2. (After removing the one record that took place in 2021,) What is the annual average [nominal](https://www.stlouisfed.org/publications/inside-the-vault/fall-2007/nominal-vs-real-oil-prices) property sales price in King County, WA?"
   ]
  },
  {
   "cell_type": "code",
   "execution_count": 63,
   "metadata": {},
   "outputs": [],
   "source": [
    "clean_sales = list(filter(lambda sale: sale['SalePrice'].isnumeric(),sales))"
   ]
  },
  {
   "cell_type": "code",
   "execution_count": 74,
   "metadata": {},
   "outputs": [],
   "source": [
    "sale_by_year = {}\n",
    "for sale in clean_sales:\n",
    "    if sale['sale_year'] in sale_by_year:\n",
    "        sale_by_year[sale['sale_year']].append(int(sale['SalePrice']))\n",
    "    else:\n",
    "        sale_by_year[sale['sale_year']] = [int(sale['SalePrice'])]\n",
    "years = []\n",
    "averages = []\n",
    "for year in sale_by_year.items():\n",
    "    years.append(year[0])\n",
    "    try:\n",
    "        averages.append(sum(year[1]) / len(year[1]))\n",
    "    except:\n",
    "        print(sum(year[1]))\n",
    "\n",
    "    "
   ]
  },
  {
   "cell_type": "code",
   "execution_count": 76,
   "metadata": {},
   "outputs": [
    {
     "data": {
      "image/png": "[encoded data removed]",
      "text/plain": [
       "<Figure size 1440x720 with 1 Axes>"
      ]
     },
     "metadata": {
      "needs_background": "light"
     },
     "output_type": "display_data"
    }
   ],
   "source": [
    "fig, ax = plt.subplots(nrows = 1, ncols = 1, figsize = (20, 10))\n",
    "ax.bar(x = years, height = averages)\n",
    "ax.set_xlabel('Year')\n",
    "ax.set_ylabel('Nominal Average')\n",
    "ax.set_title(\"Nominal Average by Year\")\n",
    "\n",
    "fig.savefig('visuals/Nominal_Average_by_Year.png', dpi = 150, bbox_inches = \"tight\")\n",
    "\n",
    "fig.tight_layout()"
   ]
  },
  {
   "cell_type": "markdown",
   "metadata": {},
   "source": [
    "### 3. Which property has been sold the most in King County, WA throughout time?\n",
    "\n",
    "This questions requires you to create a <strong>P</strong>arcel <strong>I</strong>dentification <strong>N</strong>umber (PIN). To learn how to do this, read the \"Attribute Information\" section on the Parcel webpage from the [King County Geographic Information System (KCGI)](https://www5.kingcounty.gov/sdc/Metadata.aspx?Layer=parcel)."
   ]
  },
  {
   "cell_type": "code",
   "execution_count": 44,
   "metadata": {},
   "outputs": [],
   "source": [
    "sales_by_PIN = {}\n",
    "for sale in sales:\n",
    "    count += 1\n",
    "    major = sale['Major']\n",
    "    minor = sale['Minor']\n",
    "    if major.isnumeric() and minor.isnumeric():\n",
    "        PIN = major + minor\n",
    "        if PIN in sales_by_PIN.keys():\n",
    "            sales_by_PIN[PIN] += 1\n",
    "        else:\n",
    "            sales_by_PIN[PIN] = 1\n"
   ]
  },
  {
   "cell_type": "code",
   "execution_count": 54,
   "metadata": {},
   "outputs": [
    {
     "data": {
      "text/plain": [
       "[('0000000000', 9684),\n",
       " ('0524079007', 2248),\n",
       " ('2767700505', 188),\n",
       " ('1026059013', 104),\n",
       " ('0924059109', 92),\n",
       " ('0653000375', 85),\n",
       " ('6145602080', 81),\n",
       " ('2323059185', 72),\n",
       " ('1310380004', 66),\n",
       " ('9829200980', 59)]"
      ]
     },
     "execution_count": 54,
     "metadata": {},
     "output_type": "execute_result"
    }
   ],
   "source": [
    "sorted_list = sorted(list(sales_by_PIN.items()), key = lambda x: x[1], reverse = True)\n",
    "sorted_list[0:10]"
   ]
  },
  {
   "cell_type": "markdown",
   "metadata": {},
   "source": [
    "### 4. Who are the top 5 sellers in terms of who has sold the most property in King County, WA throughout time?"
   ]
  },
  {
   "cell_type": "code",
   "execution_count": 55,
   "metadata": {},
   "outputs": [],
   "source": [
    "sales_by_seller = {}\n",
    "for sale in sales:\n",
    "    seller = sale['SellerName']\n",
    "    if seller in sales_by_seller.keys():\n",
    "        sales_by_seller[seller] += 1\n",
    "    else:\n",
    "        sales_by_seller[seller] = 1"
   ]
  },
  {
   "cell_type": "code",
   "execution_count": 57,
   "metadata": {},
   "outputs": [
    {
     "data": {
      "text/plain": [
       "[('NORTHWEST TRUSTEE SERVICES INC                    ', 13317),\n",
       " ('QUADRANT CORPORATION                              ', 5480),\n",
       " ('SSHI LLC                                          ', 4042),\n",
       " ('CENTEX HOMES                                      ', 3111),\n",
       " ('KING COUNTY                                       ', 3016)]"
      ]
     },
     "execution_count": 57,
     "metadata": {},
     "output_type": "execute_result"
    }
   ],
   "source": [
    "sorted_list = sorted(list(sales_by_seller.items()), key = lambda x: x[1], reverse = True)\n",
    "sorted_list[0:5]"
   ]
  },
  {
   "cell_type": "markdown",
   "metadata": {},
   "source": [
    "### 5. From 2009 to 2019, which buyer has bought the most property in King County, WA?"
   ]
  },
  {
   "cell_type": "code",
   "execution_count": 61,
   "metadata": {},
   "outputs": [],
   "source": [
    "buyers = {}\n",
    "for sale in sales:\n",
    "    if sale[\"sale_year\"] > 2009 and sale[\"sale_year\"] < 2020:\n",
    "        buyer = sale['BuyerName']\n",
    "        if buyer in buyers.keys():\n",
    "            buyers[buyer] += 1\n",
    "        else:\n",
    "            buyers[buyer] = 1"
   ]
  },
  {
   "cell_type": "code",
   "execution_count": 62,
   "metadata": {},
   "outputs": [
    {
     "data": {
      "text/plain": [
       "[('FEDERAL NATIONAL MORTGAGE ASSOCIATION             ', 3003),\n",
       " ('FEDERAL NATIONAL MORTGAGE ASSN                    ', 2407),\n",
       " ('MUCKLESHOOT FEDERAL CORPORATION                   ', 1479),\n",
       " ('SECRETARY OF HOUSING & URBAN DEVELOPMENT          ', 1328),\n",
       " ('FEDERAL HOME LOAN MORTGAGE CORPORATION            ', 1196),\n",
       " ('SEATTLE CITY OF                                   ', 1122),\n",
       " ('KING COUNTY                                       ', 1059),\n",
       " ('FEDERAL HOME LOAN MORTGAGE CORP                   ', 1036),\n",
       " ('WELLS FARGO BANK NA                               ', 925),\n",
       " ('SSHI LLC                                          ', 793)]"
      ]
     },
     "execution_count": 62,
     "metadata": {},
     "output_type": "execute_result"
    }
   ],
   "source": [
    "sorted_list = sorted(list(buyers.items()), key = lambda x: x[1], reverse = True)\n",
    "sorted_list[0:10]"
   ]
  },
  {
   "cell_type": "code",
   "execution_count": null,
   "metadata": {},
   "outputs": [],
   "source": []
  }
 ],
 "metadata": {
  "kernelspec": {
   "display_name": "Python 3",
   "language": "python",
   "name": "python3"
  },
  "language_info": {
   "codemirror_mode": {
    "name": "ipython",
    "version": 3
   },
   "file_extension": ".py",
   "mimetype": "text/x-python",
   "name": "python",
   "nbconvert_exporter": "python",
   "pygments_lexer": "ipython3",
   "version": "3.6.9"
  }
 },
 "nbformat": 4,
 "nbformat_minor": 2
}
